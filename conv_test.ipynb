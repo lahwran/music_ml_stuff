{
 "cells": [
  {
   "cell_type": "code",
   "execution_count": 4,
   "metadata": {
    "collapsed": true
   },
   "outputs": [],
   "source": [
    "wraptostride = lambda wrap: {\"stride\": wrap, \"filter_size\": wrap*wrap}"
   ]
  },
  {
   "cell_type": "markdown",
   "metadata": {},
   "source": [
    "since I can only do 2d conv, my 1d stream needs to be wrapped into a 2d one in order to convolve. Unfortunately, that needs to happen *at each layer*, because the previous layer will output a 1d stream again."
   ]
  },
  {
   "cell_type": "code",
   "execution_count": 5,
   "metadata": {
    "collapsed": false
   },
   "outputs": [
    {
     "name": "stdout",
     "output_type": "stream",
     "text": [
      "0 -> {'stride': 0, 'filter_size': 0}\n",
      "1 -> {'stride': 1, 'filter_size': 1}\n",
      "2 -> {'stride': 2, 'filter_size': 4}\n",
      "3 -> {'stride': 3, 'filter_size': 9}\n",
      "4 -> {'stride': 4, 'filter_size': 16}\n",
      "5 -> {'stride': 5, 'filter_size': 25}\n",
      "6 -> {'stride': 6, 'filter_size': 36}\n",
      "7 -> {'stride': 7, 'filter_size': 49}\n",
      "8 -> {'stride': 8, 'filter_size': 64}\n",
      "9 -> {'stride': 9, 'filter_size': 81}\n",
      "10 -> {'stride': 10, 'filter_size': 100}\n",
      "11 -> {'stride': 11, 'filter_size': 121}\n",
      "12 -> {'stride': 12, 'filter_size': 144}\n",
      "13 -> {'stride': 13, 'filter_size': 169}\n",
      "14 -> {'stride': 14, 'filter_size': 196}\n",
      "15 -> {'stride': 15, 'filter_size': 225}\n",
      "16 -> {'stride': 16, 'filter_size': 256}\n",
      "17 -> {'stride': 17, 'filter_size': 289}\n",
      "18 -> {'stride': 18, 'filter_size': 324}\n",
      "19 -> {'stride': 19, 'filter_size': 361}\n",
      "20 -> {'stride': 20, 'filter_size': 400}\n",
      "21 -> {'stride': 21, 'filter_size': 441}\n",
      "22 -> {'stride': 22, 'filter_size': 484}\n",
      "23 -> {'stride': 23, 'filter_size': 529}\n",
      "24 -> {'stride': 24, 'filter_size': 576}\n"
     ]
    }
   ],
   "source": [
    "for x in range(0, 25):\n",
    "    print x, \"->\", wraptostride(x)\n",
    "    "
   ]
  },
  {
   "cell_type": "markdown",
   "metadata": {},
   "source": [
    "whoops, I lied. I can do 1d conv just fine."
   ]
  },
  {
   "cell_type": "code",
   "execution_count": 6,
   "metadata": {
    "collapsed": false
   },
   "outputs": [],
   "source": [
    "import theano\n",
    "from blocks.bricks.conv import Convolutional"
   ]
  },
  {
   "cell_type": "markdown",
   "metadata": {},
   "source": [
    "note: it seems you can't import theano unless the very first way you try to import theano is \"import theano\". no fancy from imports or letting dependencies import it."
   ]
  },
  {
   "cell_type": "code",
   "execution_count": 7,
   "metadata": {
    "collapsed": true
   },
   "outputs": [],
   "source": [
    "from audio2numpy import load, get_current_song"
   ]
  },
  {
   "cell_type": "code",
   "execution_count": 8,
   "metadata": {
    "collapsed": false
   },
   "outputs": [],
   "source": [
    "#data, samplerate = load(get_current_song())"
   ]
  },
  {
   "cell_type": "code",
   "execution_count": 9,
   "metadata": {
    "collapsed": false
   },
   "outputs": [],
   "source": [
    "#data"
   ]
  },
  {
   "cell_type": "code",
   "execution_count": 10,
   "metadata": {
    "collapsed": true
   },
   "outputs": [],
   "source": [
    "#%matplotlib inline"
   ]
  },
  {
   "cell_type": "code",
   "execution_count": 11,
   "metadata": {
    "collapsed": false
   },
   "outputs": [],
   "source": [
    "#from audio2numpy import display_song\n",
    "#display_song(data)"
   ]
  },
  {
   "cell_type": "code",
   "execution_count": 12,
   "metadata": {
    "collapsed": true
   },
   "outputs": [],
   "source": [
    "import audiotags\n",
    "nonlyrical = audiotags.getbytag(\"nonlyrical\")\n",
    "lyrical = audiotags.getbytag(\"lyrical\")\n",
    "semilyrical = audiotags.getbytag(\"semilyrical\")\n",
    "anylyrical = nonlyrical | lyrical | semilyrical"
   ]
  },
  {
   "cell_type": "code",
   "execution_count": 13,
   "metadata": {
    "collapsed": false
   },
   "outputs": [
    {
     "data": {
      "text/plain": [
       "614"
      ]
     },
     "execution_count": 13,
     "metadata": {},
     "output_type": "execute_result"
    }
   ],
   "source": [
    "len(anylyrical)"
   ]
  },
  {
   "cell_type": "code",
   "execution_count": 14,
   "metadata": {
    "collapsed": false
   },
   "outputs": [
    {
     "data": {
      "text/plain": [
       "63"
      ]
     },
     "execution_count": 14,
     "metadata": {},
     "output_type": "execute_result"
    }
   ],
   "source": [
    "len(semilyrical)"
   ]
  },
  {
   "cell_type": "code",
   "execution_count": 15,
   "metadata": {
    "collapsed": true
   },
   "outputs": [],
   "source": [
    "from audiotags import basedir"
   ]
  },
  {
   "cell_type": "code",
   "execution_count": 16,
   "metadata": {
    "collapsed": false
   },
   "outputs": [],
   "source": [
    "#get_current_song()"
   ]
  },
  {
   "cell_type": "code",
   "execution_count": 17,
   "metadata": {
    "collapsed": false
   },
   "outputs": [
    {
     "data": {
      "text/plain": [
       "u'audio/T12 - End of Line - Daft Punk.mp3'"
      ]
     },
     "execution_count": 17,
     "metadata": {},
     "output_type": "execute_result"
    }
   ],
   "source": [
    "list(nonlyrical)[0]"
   ]
  },
  {
   "cell_type": "code",
   "execution_count": 1,
   "metadata": {
    "collapsed": true
   },
   "outputs": [],
   "source": [
    "from localdata import metadata"
   ]
  },
  {
   "cell_type": "code",
   "execution_count": 19,
   "metadata": {
    "collapsed": false
   },
   "outputs": [
    {
     "data": {
      "text/plain": [
       "614"
      ]
     },
     "execution_count": 19,
     "metadata": {},
     "output_type": "execute_result"
    }
   ],
   "source": [
    "len(metadata)"
   ]
  },
  {
   "cell_type": "code",
   "execution_count": 20,
   "metadata": {
    "collapsed": false
   },
   "outputs": [
    {
     "data": {
      "text/plain": [
       "{}"
      ]
     },
     "execution_count": 20,
     "metadata": {},
     "output_type": "execute_result"
    }
   ],
   "source": [
    "{k: m[\"bitrate\"] for k, m in metadata.items() if m[\"bitrate\"] != 44100}"
   ]
  },
  {
   "cell_type": "code",
   "execution_count": 21,
   "metadata": {
    "collapsed": false
   },
   "outputs": [],
   "source": [
    "#import audio2numpy\n",
    "#reload(audio2numpy)"
   ]
  },
  {
   "cell_type": "code",
   "execution_count": 23,
   "metadata": {
    "collapsed": false
   },
   "outputs": [
    {
     "name": "stdout",
     "output_type": "stream",
     "text": [
      "loaded file in 0.565978050232\n"
     ]
    }
   ],
   "source": [
    "import os\n",
    "song = 'dwhelper/Take On Me.mp3'\n",
    "data, bitrate = load(os.path.join(basedir, song))\n",
    "metadata[song] = {\"len\": len(data), \"bitrate\": bitrate, \"seconds\": len(data) / float(bitrate)}"
   ]
  },
  {
   "cell_type": "code",
   "execution_count": 24,
   "metadata": {
    "collapsed": false,
    "scrolled": true
   },
   "outputs": [
    {
     "data": {
      "text/plain": [
       "44100"
      ]
     },
     "execution_count": 24,
     "metadata": {},
     "output_type": "execute_result"
    }
   ],
   "source": [
    "bitrate"
   ]
  },
  {
   "cell_type": "code",
   "execution_count": 25,
   "metadata": {
    "collapsed": false,
    "scrolled": true
   },
   "outputs": [],
   "source": [
    "for song in (k for k, m in metadata.items() if m[\"bitrate\"] != 44100):\n",
    "    data, bitrate = load(os.path.join(basedir, song))\n",
    "    metadata[song] = {\"len\": len(data), \"bitrate\": bitrate, \"seconds\": len(data) / float(bitrate)}"
   ]
  },
  {
   "cell_type": "code",
   "execution_count": 26,
   "metadata": {
    "collapsed": false
   },
   "outputs": [
    {
     "data": {
      "text/plain": [
       "{}"
      ]
     },
     "execution_count": 26,
     "metadata": {},
     "output_type": "execute_result"
    }
   ],
   "source": [
    "{k: m[\"bitrate\"] for k, m in metadata.items() if m[\"bitrate\"] != 44100}"
   ]
  },
  {
   "cell_type": "code",
   "execution_count": 27,
   "metadata": {
    "collapsed": false
   },
   "outputs": [],
   "source": [
    "lengths = sorted([m[\"len\"] for m in metadata.values()])"
   ]
  },
  {
   "cell_type": "code",
   "execution_count": 28,
   "metadata": {
    "collapsed": true
   },
   "outputs": [],
   "source": [
    "#import numpy\n",
    "#from matplotlib import pyplot"
   ]
  },
  {
   "cell_type": "code",
   "execution_count": 29,
   "metadata": {
    "collapsed": false
   },
   "outputs": [],
   "source": [
    "#numpy.histogram(lengths)"
   ]
  },
  {
   "cell_type": "code",
   "execution_count": 30,
   "metadata": {
    "collapsed": false
   },
   "outputs": [],
   "source": [
    "#pyplot.hist([(l/44100.0)/60.0 for l in sorted(lengths)[5:-5]], 50)"
   ]
  },
  {
   "cell_type": "code",
   "execution_count": 31,
   "metadata": {
    "collapsed": false
   },
   "outputs": [
    {
     "data": {
      "text/plain": [
       "81"
      ]
     },
     "execution_count": 31,
     "metadata": {},
     "output_type": "execute_result"
    }
   ],
   "source": [
    "9 * 9"
   ]
  },
  {
   "cell_type": "markdown",
   "metadata": {},
   "source": [
    "and the number of ops that would take on a full song:"
   ]
  },
  {
   "cell_type": "code",
   "execution_count": 32,
   "metadata": {
    "collapsed": false
   },
   "outputs": [
    {
     "name": "stdout",
     "output_type": "stream",
     "text": [
      "1.00975714286\n"
     ]
    },
    {
     "data": {
      "text/plain": [
       "11340000"
      ]
     },
     "execution_count": 32,
     "metadata": {},
     "output_type": "execute_result"
    }
   ],
   "source": [
    "inputwidth = 280000\n",
    "print lengths[0] / float(inputwidth)\n",
    "9 * 9 * inputwidth/2"
   ]
  },
  {
   "cell_type": "markdown",
   "metadata": {},
   "source": [
    "10x conv 9 stride 2 -> 10x maxpool 2 stride 2 -> 30x conv 3 -> maxpool 3 -> ..."
   ]
  },
  {
   "cell_type": "code",
   "execution_count": 34,
   "metadata": {
    "collapsed": false,
    "scrolled": false
   },
   "outputs": [
    {
     "name": "stdout",
     "output_type": "stream",
     "text": [
      " input: (3739392, 2)\n",
      "in seconds: 0:01:24.793469\n",
      "average length: 11670584.2068\n",
      "in seconds: 0:04:24.639098\n",
      "square image size that would be this big: 1933.75075953\n",
      "out width: (9348480, 10) params: 190\n",
      "out width: (9348480, 1) params: 11\n",
      "out width: (31161600, 10) params: 40\n",
      "out width: (31161600, 1) params: 11\n",
      "out width: (62323200, 10) params: 60\n",
      "out width: (62323200, 1) params: 11\n",
      "out width: (18885818, 10) params: 120\n",
      "out width: (18885818, 1) params: 11\n",
      "out width: (1284749, 10) params: 220\n",
      "out width: (1284749, 1) params: 11\n",
      "out width: (41443, 10) params: 320\n",
      "out width: (41443, 1) params: 11\n",
      "out width: (777, 10) params: 420\n",
      "out width: (777, 1) params: 11\n",
      "out width: (14, 10) params: 420\n",
      "out width: (14, 1) params: 11\n",
      "out width: (128, 1) params: 1920\n",
      "out width: (2, 1) params: 258\n",
      "total ops to run the network once: 6,676,519,040\n",
      "gpu peak flops: 5000000000000\n",
      "(hopefully) network runs/second on slow gpu: 108.245029434\n",
      "(hopefully) network runs/second on fast gpu: 748.893243627\n",
      "param count: 4,056\n",
      "18\n"
     ]
    }
   ],
   "source": [
    "# This cell is how I tested things out to try to get the network param count down\n",
    "import numpy\n",
    "class L(object):\n",
    "    def __init__(self, convcount, width, poolamount, stride=None):\n",
    "        self.convcount = convcount\n",
    "        self.width = width\n",
    "        if stride is None:\n",
    "            self.stride = max(poolamount / 3, 1)\n",
    "        else:\n",
    "            self.stride = stride\n",
    "        self.poolamount = poolamount\n",
    "\n",
    "    def outputs_size(self, input_width):\n",
    "        applications_per_conv = input_width / self.stride\n",
    "        ret = self.convcount * applications_per_conv / self.poolamount, self.convcount\n",
    "        return ret\n",
    "    \n",
    "    def params_count(self, input_width, channel_count):\n",
    "        parameters_per_conv = channel_count * self.width + 1\n",
    "        z = self.convcount * parameters_per_conv\n",
    "        return z\n",
    "    \n",
    "    def ops_count(self, input_width, channel_count):\n",
    "        applications_per_conv = input_width / self.stride\n",
    "        parameters_per_conv = channel_count * self.width\n",
    "        return applications_per_conv * parameters_per_conv * self.convcount \\\n",
    "                + applications_per_conv * 2\n",
    "\n",
    "\n",
    "class FC(object):\n",
    "    def __init__(self, width):\n",
    "        self.width = width\n",
    "\n",
    "    def outputs_size(self, inputs_count):\n",
    "        return self.width, 1\n",
    "\n",
    "    def params_count(self, inputs_count, channel_count):\n",
    "        return inputs_count * channel_count * self.width + self.width\n",
    "    \n",
    "    def ops_count(self, inputs_count, channel_count):\n",
    "        return inputs_count * channel_count * self.width + self.width * 2\n",
    "\n",
    "\n",
    "net = [\n",
    "    L(10, 9, 2, 2),\n",
    "    L(1, 1, 1, 1),\n",
    "    L(10, 3, 3),\n",
    "    L(1, 1, 1, 1),\n",
    "    L(10, 5, 5),\n",
    "    L(1, 1, 1, 1),\n",
    "    L(10, 11, 11),\n",
    "    L(1, 1, 1, 1),\n",
    "    L(10, 21, 21),\n",
    "    L(1, 1, 1, 1),\n",
    "    L(10, 31, 31),\n",
    "    L(1, 1, 1, 1),\n",
    "    L(10, 41, 41),\n",
    "    L(1, 1, 1, 1),\n",
    "    L(10, 41, 41),\n",
    "    L(1, 1, 1, 1),\n",
    "    FC(128),\n",
    "    FC(2)  # cut me off and replace me when respecializing\n",
    "]\n",
    "ops = 0\n",
    "#layer_in = (int(numpy.median(lengths)), 2)\n",
    "layer_in = (sorted(lengths)[5:-5][0], 2)\n",
    "params = 0\n",
    "import datetime\n",
    "print \"input:\", layer_in\n",
    "print \"in seconds:\", datetime.timedelta(seconds=layer_in[0] / 44100.0)\n",
    "print \"average length:\", numpy.average(lengths)\n",
    "print \"in seconds:\", datetime.timedelta(seconds=numpy.average(lengths)/44100.0)\n",
    "import math\n",
    "print \"square image size that would be this big:\", math.sqrt(layer_in[0])\n",
    "for layer in net:\n",
    "    ops += layer.ops_count(*layer_in)\n",
    "    pc = layer.params_count(*layer_in)\n",
    "    pc1 = layer.params_count(layer_in[0], 1)\n",
    "    params += pc\n",
    "    \n",
    "    \n",
    "    layer_in = layer.outputs_size(layer_in[0])\n",
    "    print \"out width:\", layer_in, \"params:\", pc\n",
    "\n",
    "import locale\n",
    "locale.setlocale(locale.LC_ALL, 'en_US')\n",
    "sflops = int(722.7e9)\n",
    "fflops = int(5e12)\n",
    "\n",
    "print \"total ops to run the network once:\", locale.format(\"%d\", ops, grouping=True)\n",
    "print \"gpu peak flops:\", fflops\n",
    "print \"(hopefully) network runs/second on slow gpu:\", float(sflops)/float(ops)\n",
    "print \"(hopefully) network runs/second on fast gpu:\", float(fflops)/float(ops)\n",
    "print \"param count:\", locale.format(\"%d\", params, grouping=True)\n",
    "\n",
    "print len(net)"
   ]
  },
  {
   "cell_type": "markdown",
   "metadata": {},
   "source": [
    "question: how do two convolutional layers typically combine? what would make sense? if you have 10 images, created by applying the first layer, does the second layer get applied to all of them? resulting in filters_a * filters_b images on the second layer? that sounds right, but then how do you get rid of the filtered images? -> answer is here: http://ufldl.stanford.edu/tutorial/supervised/ConvolutionalNeuralNetwork/"
   ]
  },
  {
   "cell_type": "code",
   "execution_count": 35,
   "metadata": {
    "collapsed": true
   },
   "outputs": [],
   "source": [
    "from blocks.bricks.conv import ConvolutionalLayer, ConvolutionalSequence, ConvolutionalActivation"
   ]
  },
  {
   "cell_type": "code",
   "execution_count": 36,
   "metadata": {
    "collapsed": false
   },
   "outputs": [
    {
     "data": {
      "text/plain": [
       "3739392"
      ]
     },
     "execution_count": 36,
     "metadata": {},
     "output_type": "execute_result"
    }
   ],
   "source": [
    "input_size = sorted(lengths)[5:-5][0]\n",
    "input_size"
   ]
  },
  {
   "cell_type": "code",
   "execution_count": 37,
   "metadata": {
    "collapsed": false
   },
   "outputs": [],
   "source": [
    "from blocks.bricks import Rectifier\n",
    "convolutions = ConvolutionalSequence(\n",
    "    layers=[\n",
    "        ConvolutionalLayer(\n",
    "            activation=Rectifier().apply,\n",
    "            filter_size=(9, 1),\n",
    "            num_filters=10,\n",
    "            conv_step=(2, 1),\n",
    "            pooling_size=(2, 1),\n",
    "            pooling_step=(1, 1),),\n",
    "        ConvolutionalActivation(\n",
    "            activation=Rectifier().apply,\n",
    "            filter_size=(1, 1),\n",
    "            num_filters=1,),\n",
    "        ConvolutionalLayer(\n",
    "            activation=Rectifier().apply,\n",
    "            filter_size=(3, 1),\n",
    "            num_filters=10,\n",
    "            conv_step=(1, 1),\n",
    "            pooling_size=(3, 1),\n",
    "            pooling_step=(1, 1),),\n",
    "        ConvolutionalActivation(\n",
    "            activation=Rectifier().apply,\n",
    "            filter_size=(1, 1),\n",
    "            num_filters=1,),\n",
    "        ConvolutionalLayer(\n",
    "            activation=Rectifier().apply,\n",
    "            filter_size=(5, 1),\n",
    "            num_filters=10,\n",
    "            conv_step=(1, 1),\n",
    "            pooling_size=(5, 1),\n",
    "            pooling_step=(1, 1),),\n",
    "        ConvolutionalActivation(\n",
    "            activation=Rectifier().apply,\n",
    "            filter_size=(1, 1),\n",
    "            num_filters=1,),\n",
    "        ConvolutionalLayer(\n",
    "            activation=Rectifier().apply,\n",
    "            filter_size=(11, 1),\n",
    "            num_filters=10,\n",
    "            conv_step=(4, 1),\n",
    "            pooling_size=(11, 1),\n",
    "            pooling_step=(1, 1),),\n",
    "        ConvolutionalActivation(\n",
    "            activation=Rectifier().apply,\n",
    "            filter_size=(1, 1),\n",
    "            num_filters=1,),\n",
    "        ConvolutionalLayer(\n",
    "            activation=Rectifier().apply,\n",
    "            filter_size=(21, 1),\n",
    "            num_filters=10,\n",
    "            conv_step=(7, 1),\n",
    "            pooling_size=(21, 1),\n",
    "            pooling_step=(1, 1),),\n",
    "        ConvolutionalActivation(\n",
    "            activation=Rectifier().apply,\n",
    "            filter_size=(1, 1),\n",
    "            num_filters=1,),\n",
    "        ConvolutionalLayer(\n",
    "            activation=Rectifier().apply,\n",
    "            filter_size=(31, 1),\n",
    "            num_filters=10,\n",
    "            conv_step=(10, 1),\n",
    "            pooling_size=(31, 1),\n",
    "            pooling_step=(1, 1),),\n",
    "        ConvolutionalActivation(\n",
    "            activation=Rectifier().apply,\n",
    "            filter_size=(1, 1),\n",
    "            num_filters=1,),\n",
    "        ConvolutionalLayer(\n",
    "            activation=Rectifier().apply,\n",
    "            filter_size=(41, 1),\n",
    "            num_filters=10,\n",
    "            conv_step=(13, 1),\n",
    "            pooling_size=(41, 1),\n",
    "            pooling_step=(1, 1),),\n",
    "        ConvolutionalActivation(\n",
    "            activation=Rectifier().apply,\n",
    "            filter_size=(1, 1),\n",
    "            num_filters=1,),\n",
    "        ConvolutionalLayer(\n",
    "            activation=Rectifier().apply,\n",
    "            filter_size=(41, 1),\n",
    "            num_filters=10,\n",
    "            conv_step=(13, 1),\n",
    "            pooling_size=(41, 1),\n",
    "            pooling_step=(1, 1),),\n",
    "        ConvolutionalActivation(\n",
    "            activation=Rectifier().apply,\n",
    "            filter_size=(1, 1),\n",
    "            num_filters=1,),\n",
    "    ],\n",
    "    image_size=(input_size, 1),\n",
    "    num_channels=2)"
   ]
  },
  {
   "cell_type": "code",
   "execution_count": 40,
   "metadata": {
    "collapsed": false
   },
   "outputs": [
    {
     "ename": "AttributeError",
     "evalue": "'NoneType' object has no attribute 'initialize'",
     "output_type": "error",
     "traceback": [
      "\u001b[0;31m---------------------------------------------------------------------------\u001b[0m",
      "\u001b[0;31mAttributeError\u001b[0m                            Traceback (most recent call last)",
      "\u001b[0;32m<ipython-input-40-d987a7a1745e>\u001b[0m in \u001b[0;36m<module>\u001b[0;34m()\u001b[0m\n\u001b[0;32m----> 1\u001b[0;31m \u001b[0mconvolutions\u001b[0m\u001b[0;34m.\u001b[0m\u001b[0minitialize\u001b[0m\u001b[0;34m(\u001b[0m\u001b[0;34m)\u001b[0m\u001b[0;34m\u001b[0m\u001b[0m\n\u001b[0m",
      "\u001b[0;32m/Users/lahwran/Library/Python/2.7/lib/python/site-packages/blocks/bricks/base.pyc\u001b[0m in \u001b[0;36minitialize\u001b[0;34m(self)\u001b[0m\n\u001b[1;32m    632\u001b[0m             \u001b[0mself\u001b[0m\u001b[0;34m.\u001b[0m\u001b[0mpush_initialization_config\u001b[0m\u001b[0;34m(\u001b[0m\u001b[0;34m)\u001b[0m\u001b[0;34m\u001b[0m\u001b[0m\n\u001b[1;32m    633\u001b[0m         \u001b[0;32mfor\u001b[0m \u001b[0mchild\u001b[0m \u001b[0;32min\u001b[0m \u001b[0mself\u001b[0m\u001b[0;34m.\u001b[0m\u001b[0mchildren\u001b[0m\u001b[0;34m:\u001b[0m\u001b[0;34m\u001b[0m\u001b[0m\n\u001b[0;32m--> 634\u001b[0;31m             \u001b[0mchild\u001b[0m\u001b[0;34m.\u001b[0m\u001b[0minitialize\u001b[0m\u001b[0;34m(\u001b[0m\u001b[0;34m)\u001b[0m\u001b[0;34m\u001b[0m\u001b[0m\n\u001b[0m\u001b[1;32m    635\u001b[0m         \u001b[0mself\u001b[0m\u001b[0;34m.\u001b[0m\u001b[0m_initialize\u001b[0m\u001b[0;34m(\u001b[0m\u001b[0;34m)\u001b[0m\u001b[0;34m\u001b[0m\u001b[0m\n\u001b[1;32m    636\u001b[0m         \u001b[0mself\u001b[0m\u001b[0;34m.\u001b[0m\u001b[0minitialized\u001b[0m \u001b[0;34m=\u001b[0m \u001b[0mTrue\u001b[0m\u001b[0;34m\u001b[0m\u001b[0m\n",
      "\u001b[0;32m/Users/lahwran/Library/Python/2.7/lib/python/site-packages/blocks/bricks/base.pyc\u001b[0m in \u001b[0;36minitialize\u001b[0;34m(self)\u001b[0m\n\u001b[1;32m    632\u001b[0m             \u001b[0mself\u001b[0m\u001b[0;34m.\u001b[0m\u001b[0mpush_initialization_config\u001b[0m\u001b[0;34m(\u001b[0m\u001b[0;34m)\u001b[0m\u001b[0;34m\u001b[0m\u001b[0m\n\u001b[1;32m    633\u001b[0m         \u001b[0;32mfor\u001b[0m \u001b[0mchild\u001b[0m \u001b[0;32min\u001b[0m \u001b[0mself\u001b[0m\u001b[0;34m.\u001b[0m\u001b[0mchildren\u001b[0m\u001b[0;34m:\u001b[0m\u001b[0;34m\u001b[0m\u001b[0m\n\u001b[0;32m--> 634\u001b[0;31m             \u001b[0mchild\u001b[0m\u001b[0;34m.\u001b[0m\u001b[0minitialize\u001b[0m\u001b[0;34m(\u001b[0m\u001b[0;34m)\u001b[0m\u001b[0;34m\u001b[0m\u001b[0m\n\u001b[0m\u001b[1;32m    635\u001b[0m         \u001b[0mself\u001b[0m\u001b[0;34m.\u001b[0m\u001b[0m_initialize\u001b[0m\u001b[0;34m(\u001b[0m\u001b[0;34m)\u001b[0m\u001b[0;34m\u001b[0m\u001b[0m\n\u001b[1;32m    636\u001b[0m         \u001b[0mself\u001b[0m\u001b[0;34m.\u001b[0m\u001b[0minitialized\u001b[0m \u001b[0;34m=\u001b[0m \u001b[0mTrue\u001b[0m\u001b[0;34m\u001b[0m\u001b[0m\n",
      "\u001b[0;32m/Users/lahwran/Library/Python/2.7/lib/python/site-packages/blocks/bricks/base.pyc\u001b[0m in \u001b[0;36minitialize\u001b[0;34m(self)\u001b[0m\n\u001b[1;32m    632\u001b[0m             \u001b[0mself\u001b[0m\u001b[0;34m.\u001b[0m\u001b[0mpush_initialization_config\u001b[0m\u001b[0;34m(\u001b[0m\u001b[0;34m)\u001b[0m\u001b[0;34m\u001b[0m\u001b[0m\n\u001b[1;32m    633\u001b[0m         \u001b[0;32mfor\u001b[0m \u001b[0mchild\u001b[0m \u001b[0;32min\u001b[0m \u001b[0mself\u001b[0m\u001b[0;34m.\u001b[0m\u001b[0mchildren\u001b[0m\u001b[0;34m:\u001b[0m\u001b[0;34m\u001b[0m\u001b[0m\n\u001b[0;32m--> 634\u001b[0;31m             \u001b[0mchild\u001b[0m\u001b[0;34m.\u001b[0m\u001b[0minitialize\u001b[0m\u001b[0;34m(\u001b[0m\u001b[0;34m)\u001b[0m\u001b[0;34m\u001b[0m\u001b[0m\n\u001b[0m\u001b[1;32m    635\u001b[0m         \u001b[0mself\u001b[0m\u001b[0;34m.\u001b[0m\u001b[0m_initialize\u001b[0m\u001b[0;34m(\u001b[0m\u001b[0;34m)\u001b[0m\u001b[0;34m\u001b[0m\u001b[0m\n\u001b[1;32m    636\u001b[0m         \u001b[0mself\u001b[0m\u001b[0;34m.\u001b[0m\u001b[0minitialized\u001b[0m \u001b[0;34m=\u001b[0m \u001b[0mTrue\u001b[0m\u001b[0;34m\u001b[0m\u001b[0m\n",
      "\u001b[0;32m/Users/lahwran/Library/Python/2.7/lib/python/site-packages/blocks/bricks/base.pyc\u001b[0m in \u001b[0;36minitialize\u001b[0;34m(self)\u001b[0m\n\u001b[1;32m    633\u001b[0m         \u001b[0;32mfor\u001b[0m \u001b[0mchild\u001b[0m \u001b[0;32min\u001b[0m \u001b[0mself\u001b[0m\u001b[0;34m.\u001b[0m\u001b[0mchildren\u001b[0m\u001b[0;34m:\u001b[0m\u001b[0;34m\u001b[0m\u001b[0m\n\u001b[1;32m    634\u001b[0m             \u001b[0mchild\u001b[0m\u001b[0;34m.\u001b[0m\u001b[0minitialize\u001b[0m\u001b[0;34m(\u001b[0m\u001b[0;34m)\u001b[0m\u001b[0;34m\u001b[0m\u001b[0m\n\u001b[0;32m--> 635\u001b[0;31m         \u001b[0mself\u001b[0m\u001b[0;34m.\u001b[0m\u001b[0m_initialize\u001b[0m\u001b[0;34m(\u001b[0m\u001b[0;34m)\u001b[0m\u001b[0;34m\u001b[0m\u001b[0m\n\u001b[0m\u001b[1;32m    636\u001b[0m         \u001b[0mself\u001b[0m\u001b[0;34m.\u001b[0m\u001b[0minitialized\u001b[0m \u001b[0;34m=\u001b[0m \u001b[0mTrue\u001b[0m\u001b[0;34m\u001b[0m\u001b[0m\n\u001b[1;32m    637\u001b[0m \u001b[0;34m\u001b[0m\u001b[0m\n",
      "\u001b[0;32m/Users/lahwran/Library/Python/2.7/lib/python/site-packages/blocks/bricks/conv.pyc\u001b[0m in \u001b[0;36m_initialize\u001b[0;34m(self)\u001b[0m\n\u001b[1;32m     73\u001b[0m         \u001b[0;32mif\u001b[0m \u001b[0mself\u001b[0m\u001b[0;34m.\u001b[0m\u001b[0muse_bias\u001b[0m\u001b[0;34m:\u001b[0m\u001b[0;34m\u001b[0m\u001b[0m\n\u001b[1;32m     74\u001b[0m             \u001b[0mW\u001b[0m\u001b[0;34m,\u001b[0m \u001b[0mb\u001b[0m \u001b[0;34m=\u001b[0m \u001b[0mself\u001b[0m\u001b[0;34m.\u001b[0m\u001b[0mparameters\u001b[0m\u001b[0;34m\u001b[0m\u001b[0m\n\u001b[0;32m---> 75\u001b[0;31m             \u001b[0mself\u001b[0m\u001b[0;34m.\u001b[0m\u001b[0mbiases_init\u001b[0m\u001b[0;34m.\u001b[0m\u001b[0minitialize\u001b[0m\u001b[0;34m(\u001b[0m\u001b[0mb\u001b[0m\u001b[0;34m,\u001b[0m \u001b[0mself\u001b[0m\u001b[0;34m.\u001b[0m\u001b[0mrng\u001b[0m\u001b[0;34m)\u001b[0m\u001b[0;34m\u001b[0m\u001b[0m\n\u001b[0m\u001b[1;32m     76\u001b[0m         \u001b[0;32melse\u001b[0m\u001b[0;34m:\u001b[0m\u001b[0;34m\u001b[0m\u001b[0m\n\u001b[1;32m     77\u001b[0m             \u001b[0mW\u001b[0m\u001b[0;34m,\u001b[0m \u001b[0;34m=\u001b[0m \u001b[0mself\u001b[0m\u001b[0;34m.\u001b[0m\u001b[0mparameters\u001b[0m\u001b[0;34m\u001b[0m\u001b[0m\n",
      "\u001b[0;31mAttributeError\u001b[0m: 'NoneType' object has no attribute 'initialize'"
     ]
    }
   ],
   "source": [
    "convolutions.initialize()"
   ]
  },
  {
   "cell_type": "code",
   "execution_count": null,
   "metadata": {
    "collapsed": true
   },
   "outputs": [],
   "source": []
  }
 ],
 "metadata": {
  "kernelspec": {
   "display_name": "Python 2",
   "language": "python",
   "name": "python2"
  },
  "language_info": {
   "codemirror_mode": {
    "name": "ipython",
    "version": 2
   },
   "file_extension": ".py",
   "mimetype": "text/x-python",
   "name": "python",
   "nbconvert_exporter": "python",
   "pygments_lexer": "ipython2",
   "version": "2.7.5"
  }
 },
 "nbformat": 4,
 "nbformat_minor": 0
}
